{
 "cells": [
  {
   "cell_type": "markdown",
   "metadata": {},
   "source": [
    "# Pakistan Census 2017 Dataset\n",
    "Pakistan's Population Growth Trends"
   ]
  },
  {
   "cell_type": "markdown",
   "metadata": {},
   "source": [
    "**Dataset provided by** : kaggle\\\n",
    "**Author** : Fakiha Arshad\\\n",
    "**Email** : fakihaarshad23@gmail.com\n"
   ]
  },
  {
   "cell_type": "markdown",
   "metadata": {},
   "source": [
    "**Year of Data** :\\\n",
    "2017\\\n",
    "1998"
   ]
  },
  {
   "cell_type": "markdown",
   "metadata": {},
   "source": [
    "**Area covered** : pakistan\n",
    "\n",
    "`Description`\n",
    "Pakistan Census 2017 Dataset\n",
    "\n",
    "`Description` This dataset comprises data related to Pakistan's national census conducted in 2017. It includes final census results, population figures, household data, and administrative unit statistics. The census was carried out by the Pakistan Bureau of Statistics (PBS) between March 15, 2017, and May 25, 2017.\n",
    "\n",
    "The dataset provides valuable insights into Pakistan's population, demographic characteristics, urbanization, ethnic diversity, religious composition, literacy, employment, housing, and more. It is a comprehensive resource for researchers, analysts, and data enthusiasts interested in exploring and analyzing various aspects of Pakistan's census.\n",
    "\n",
    "**Content The dataset includes the following files:**\n",
    "\n",
    "Pakistan_2017_Census_final.csv: Final census results at the **sex_ratio** (administrative unit) level.\n",
    "\n",
    "The dataset was compiled from official releases by the Pakistan Bureau of Statistics (PBS) and is made available on Kaggle for wider access and analysis. The PBS conducted the census and provided the necessary data for this dataset.\n",
    "\n",
    "`Usage `This dataset can be utilized for various purposes, including demographic research, socio-economic analysis, urban planning, policy formulation, and more. Researchers, data scientists, and analysts can explore and derive valuable insights from this dataset.\n",
    "\n",
    "\n",
    "\n"
   ]
  },
  {
   "cell_type": "code",
   "execution_count": 104,
   "metadata": {},
   "outputs": [],
   "source": [
    "# import libraries\n",
    "import seaborn as sns\n",
    "import pandas as pd\n",
    "import numpy as np\n",
    "import matplotlib.pyplot as plt"
   ]
  },
  {
   "cell_type": "code",
   "execution_count": 105,
   "metadata": {},
   "outputs": [],
   "source": [
    "# Read csv file\n",
    "df = pd.read_csv('data.csv')\n"
   ]
  },
  {
   "cell_type": "markdown",
   "metadata": {},
   "source": []
  },
  {
   "cell_type": "markdown",
   "metadata": {},
   "source": [
    "# 1 Composion"
   ]
  },
  {
   "cell_type": "code",
   "execution_count": 106,
   "metadata": {},
   "outputs": [
    {
     "name": "stdout",
     "output_type": "stream",
     "text": [
      "<class 'pandas.core.frame.DataFrame'>\n",
      "RangeIndex: 2073 entries, 0 to 2072\n",
      "Data columns (total 17 columns):\n",
      " #   Column             Non-Null Count  Dtype  \n",
      "---  ------             --------------  -----  \n",
      " 0   adm_lvl_1          2073 non-null   object \n",
      " 1   adm_lvl_2          879 non-null    object \n",
      " 2   adm_lvl_3          2007 non-null   object \n",
      " 3   adm_lvl_4          1608 non-null   object \n",
      " 4   area_name          2073 non-null   object \n",
      " 5   area_type          2073 non-null   object \n",
      " 6   area_sq_km         684 non-null    float64\n",
      " 7   total_pop          1859 non-null   float64\n",
      " 8   total_male         1859 non-null   float64\n",
      " 9   total_female       1859 non-null   float64\n",
      " 10  total_trans        1642 non-null   float64\n",
      " 11  sex_ratio          1862 non-null   float64\n",
      " 12  pop_density        682 non-null    float64\n",
      " 13  pct_urban          518 non-null    float64\n",
      " 14  avg_hh_size        1837 non-null   float64\n",
      " 15  total_pop_98       1835 non-null   float64\n",
      " 16  avg_annual_growth  1832 non-null   float64\n",
      "dtypes: float64(11), object(6)\n",
      "memory usage: 275.4+ KB\n"
     ]
    }
   ],
   "source": [
    "# compostion\n",
    "df.info()"
   ]
  },
  {
   "cell_type": "code",
   "execution_count": 107,
   "metadata": {},
   "outputs": [
    {
     "data": {
      "text/html": [
       "<div>\n",
       "<style scoped>\n",
       "    .dataframe tbody tr th:only-of-type {\n",
       "        vertical-align: middle;\n",
       "    }\n",
       "\n",
       "    .dataframe tbody tr th {\n",
       "        vertical-align: top;\n",
       "    }\n",
       "\n",
       "    .dataframe thead th {\n",
       "        text-align: right;\n",
       "    }\n",
       "</style>\n",
       "<table border=\"1\" class=\"dataframe\">\n",
       "  <thead>\n",
       "    <tr style=\"text-align: right;\">\n",
       "      <th></th>\n",
       "      <th>adm_lvl_1</th>\n",
       "      <th>adm_lvl_2</th>\n",
       "      <th>adm_lvl_3</th>\n",
       "      <th>adm_lvl_4</th>\n",
       "      <th>area_name</th>\n",
       "      <th>area_type</th>\n",
       "      <th>area_sq_km</th>\n",
       "      <th>total_pop</th>\n",
       "      <th>total_male</th>\n",
       "      <th>total_female</th>\n",
       "      <th>total_trans</th>\n",
       "      <th>sex_ratio</th>\n",
       "      <th>pop_density</th>\n",
       "      <th>pct_urban</th>\n",
       "      <th>avg_hh_size</th>\n",
       "      <th>total_pop_98</th>\n",
       "      <th>avg_annual_growth</th>\n",
       "    </tr>\n",
       "  </thead>\n",
       "  <tbody>\n",
       "    <tr>\n",
       "      <th>0</th>\n",
       "      <td>BALOCHISTAN</td>\n",
       "      <td>NaN</td>\n",
       "      <td>NaN</td>\n",
       "      <td>NaN</td>\n",
       "      <td>BALOCHISTAN</td>\n",
       "      <td>TOTAL</td>\n",
       "      <td>347190.0</td>\n",
       "      <td>12335129.0</td>\n",
       "      <td>6483736.0</td>\n",
       "      <td>5850613.0</td>\n",
       "      <td>780.0</td>\n",
       "      <td>110.82</td>\n",
       "      <td>35.53</td>\n",
       "      <td>0.2762</td>\n",
       "      <td>6.87</td>\n",
       "      <td>6565885.0</td>\n",
       "      <td>0.0337</td>\n",
       "    </tr>\n",
       "    <tr>\n",
       "      <th>1</th>\n",
       "      <td>BALOCHISTAN</td>\n",
       "      <td>NaN</td>\n",
       "      <td>NaN</td>\n",
       "      <td>NaN</td>\n",
       "      <td>BALOCHISTAN</td>\n",
       "      <td>RURAL</td>\n",
       "      <td>NaN</td>\n",
       "      <td>8928428.0</td>\n",
       "      <td>4685756.0</td>\n",
       "      <td>4242183.0</td>\n",
       "      <td>489.0</td>\n",
       "      <td>110.46</td>\n",
       "      <td>NaN</td>\n",
       "      <td>NaN</td>\n",
       "      <td>6.80</td>\n",
       "      <td>4997105.0</td>\n",
       "      <td>0.0310</td>\n",
       "    </tr>\n",
       "    <tr>\n",
       "      <th>2</th>\n",
       "      <td>BALOCHISTAN</td>\n",
       "      <td>NaN</td>\n",
       "      <td>NaN</td>\n",
       "      <td>NaN</td>\n",
       "      <td>BALOCHISTAN</td>\n",
       "      <td>URBAN</td>\n",
       "      <td>NaN</td>\n",
       "      <td>3406701.0</td>\n",
       "      <td>1797980.0</td>\n",
       "      <td>1608430.0</td>\n",
       "      <td>291.0</td>\n",
       "      <td>111.78</td>\n",
       "      <td>NaN</td>\n",
       "      <td>NaN</td>\n",
       "      <td>7.06</td>\n",
       "      <td>1568780.0</td>\n",
       "      <td>0.0416</td>\n",
       "    </tr>\n",
       "    <tr>\n",
       "      <th>3</th>\n",
       "      <td>BALOCHISTAN</td>\n",
       "      <td>NaN</td>\n",
       "      <td>AWARAN</td>\n",
       "      <td>NaN</td>\n",
       "      <td>AWARAN DISTRICT</td>\n",
       "      <td>TOTAL</td>\n",
       "      <td>29510.0</td>\n",
       "      <td>121821.0</td>\n",
       "      <td>63063.0</td>\n",
       "      <td>58749.0</td>\n",
       "      <td>9.0</td>\n",
       "      <td>107.34</td>\n",
       "      <td>4.13</td>\n",
       "      <td>0.2810</td>\n",
       "      <td>6.61</td>\n",
       "      <td>118173.0</td>\n",
       "      <td>0.0016</td>\n",
       "    </tr>\n",
       "    <tr>\n",
       "      <th>4</th>\n",
       "      <td>BALOCHISTAN</td>\n",
       "      <td>NaN</td>\n",
       "      <td>AWARAN</td>\n",
       "      <td>NaN</td>\n",
       "      <td>AWARAN DISTRICT</td>\n",
       "      <td>RURAL</td>\n",
       "      <td>NaN</td>\n",
       "      <td>87584.0</td>\n",
       "      <td>45438.0</td>\n",
       "      <td>42138.0</td>\n",
       "      <td>8.0</td>\n",
       "      <td>107.83</td>\n",
       "      <td>NaN</td>\n",
       "      <td>NaN</td>\n",
       "      <td>6.25</td>\n",
       "      <td>118173.0</td>\n",
       "      <td>-0.0156</td>\n",
       "    </tr>\n",
       "  </tbody>\n",
       "</table>\n",
       "</div>"
      ],
      "text/plain": [
       "     adm_lvl_1 adm_lvl_2 adm_lvl_3 adm_lvl_4        area_name area_type  \\\n",
       "0  BALOCHISTAN       NaN       NaN       NaN      BALOCHISTAN     TOTAL   \n",
       "1  BALOCHISTAN       NaN       NaN       NaN      BALOCHISTAN     RURAL   \n",
       "2  BALOCHISTAN       NaN       NaN       NaN      BALOCHISTAN     URBAN   \n",
       "3  BALOCHISTAN       NaN    AWARAN       NaN  AWARAN DISTRICT     TOTAL   \n",
       "4  BALOCHISTAN       NaN    AWARAN       NaN  AWARAN DISTRICT     RURAL   \n",
       "\n",
       "   area_sq_km   total_pop  total_male  total_female  total_trans  sex_ratio  \\\n",
       "0    347190.0  12335129.0   6483736.0     5850613.0        780.0     110.82   \n",
       "1         NaN   8928428.0   4685756.0     4242183.0        489.0     110.46   \n",
       "2         NaN   3406701.0   1797980.0     1608430.0        291.0     111.78   \n",
       "3     29510.0    121821.0     63063.0       58749.0          9.0     107.34   \n",
       "4         NaN     87584.0     45438.0       42138.0          8.0     107.83   \n",
       "\n",
       "   pop_density  pct_urban  avg_hh_size  total_pop_98  avg_annual_growth  \n",
       "0        35.53     0.2762         6.87     6565885.0             0.0337  \n",
       "1          NaN        NaN         6.80     4997105.0             0.0310  \n",
       "2          NaN        NaN         7.06     1568780.0             0.0416  \n",
       "3         4.13     0.2810         6.61      118173.0             0.0016  \n",
       "4          NaN        NaN         6.25      118173.0            -0.0156  "
      ]
     },
     "execution_count": 107,
     "metadata": {},
     "output_type": "execute_result"
    }
   ],
   "source": [
    "df.head()"
   ]
  },
  {
   "cell_type": "code",
   "execution_count": 108,
   "metadata": {},
   "outputs": [],
   "source": [
    "pd.set_option('display.max_columns', None)"
   ]
  },
  {
   "cell_type": "code",
   "execution_count": 109,
   "metadata": {},
   "outputs": [
    {
     "data": {
      "text/plain": [
       "Index(['adm_lvl_1', 'adm_lvl_2', 'adm_lvl_3', 'adm_lvl_4', 'area_name',\n",
       "       'area_type', 'area_sq_km', 'total_pop', 'total_male', 'total_female',\n",
       "       'total_trans', 'sex_ratio', 'pop_density', 'pct_urban', 'avg_hh_size',\n",
       "       'total_pop_98', 'avg_annual_growth'],\n",
       "      dtype='object')"
      ]
     },
     "execution_count": 109,
     "metadata": {},
     "output_type": "execute_result"
    }
   ],
   "source": [
    "df.columns"
   ]
  },
  {
   "cell_type": "code",
   "execution_count": 110,
   "metadata": {},
   "outputs": [
    {
     "data": {
      "text/plain": [
       "adm_lvl_1             object\n",
       "adm_lvl_2             object\n",
       "adm_lvl_3             object\n",
       "adm_lvl_4             object\n",
       "area_name             object\n",
       "area_type             object\n",
       "area_sq_km           float64\n",
       "total_pop            float64\n",
       "total_male           float64\n",
       "total_female         float64\n",
       "total_trans          float64\n",
       "sex_ratio            float64\n",
       "pop_density          float64\n",
       "pct_urban            float64\n",
       "avg_hh_size          float64\n",
       "total_pop_98         float64\n",
       "avg_annual_growth    float64\n",
       "dtype: object"
      ]
     },
     "execution_count": 110,
     "metadata": {},
     "output_type": "execute_result"
    }
   ],
   "source": [
    "df.dtypes"
   ]
  },
  {
   "cell_type": "code",
   "execution_count": 111,
   "metadata": {},
   "outputs": [
    {
     "data": {
      "text/html": [
       "<div>\n",
       "<style scoped>\n",
       "    .dataframe tbody tr th:only-of-type {\n",
       "        vertical-align: middle;\n",
       "    }\n",
       "\n",
       "    .dataframe tbody tr th {\n",
       "        vertical-align: top;\n",
       "    }\n",
       "\n",
       "    .dataframe thead th {\n",
       "        text-align: right;\n",
       "    }\n",
       "</style>\n",
       "<table border=\"1\" class=\"dataframe\">\n",
       "  <thead>\n",
       "    <tr style=\"text-align: right;\">\n",
       "      <th></th>\n",
       "      <th>area_sq_km</th>\n",
       "      <th>total_pop</th>\n",
       "      <th>total_male</th>\n",
       "      <th>total_female</th>\n",
       "      <th>total_trans</th>\n",
       "      <th>sex_ratio</th>\n",
       "      <th>pop_density</th>\n",
       "      <th>pct_urban</th>\n",
       "      <th>avg_hh_size</th>\n",
       "      <th>total_pop_98</th>\n",
       "      <th>avg_annual_growth</th>\n",
       "    </tr>\n",
       "  </thead>\n",
       "  <tbody>\n",
       "    <tr>\n",
       "      <th>count</th>\n",
       "      <td>684.000000</td>\n",
       "      <td>1.859000e+03</td>\n",
       "      <td>1.859000e+03</td>\n",
       "      <td>1.859000e+03</td>\n",
       "      <td>1642.000000</td>\n",
       "      <td>1862.00000</td>\n",
       "      <td>682.000000</td>\n",
       "      <td>518.000000</td>\n",
       "      <td>1837.000000</td>\n",
       "      <td>1.835000e+03</td>\n",
       "      <td>1832.000000</td>\n",
       "    </tr>\n",
       "    <tr>\n",
       "      <th>mean</th>\n",
       "      <td>3892.381579</td>\n",
       "      <td>8.171552e+05</td>\n",
       "      <td>4.176485e+05</td>\n",
       "      <td>3.994215e+05</td>\n",
       "      <td>96.462850</td>\n",
       "      <td>106.02753</td>\n",
       "      <td>2019.055944</td>\n",
       "      <td>0.408385</td>\n",
       "      <td>6.579777</td>\n",
       "      <td>5.303512e+05</td>\n",
       "      <td>0.029659</td>\n",
       "    </tr>\n",
       "    <tr>\n",
       "      <th>std</th>\n",
       "      <td>17126.528751</td>\n",
       "      <td>3.788923e+06</td>\n",
       "      <td>1.931531e+06</td>\n",
       "      <td>1.857251e+06</td>\n",
       "      <td>455.241897</td>\n",
       "      <td>10.27526</td>\n",
       "      <td>8658.409604</td>\n",
       "      <td>2.214225</td>\n",
       "      <td>1.214435</td>\n",
       "      <td>2.527317e+06</td>\n",
       "      <td>0.222095</td>\n",
       "    </tr>\n",
       "    <tr>\n",
       "      <th>min</th>\n",
       "      <td>4.000000</td>\n",
       "      <td>0.000000e+00</td>\n",
       "      <td>0.000000e+00</td>\n",
       "      <td>0.000000e+00</td>\n",
       "      <td>0.000000</td>\n",
       "      <td>0.00000</td>\n",
       "      <td>1.380000</td>\n",
       "      <td>0.000000</td>\n",
       "      <td>0.000000</td>\n",
       "      <td>0.000000e+00</td>\n",
       "      <td>-1.000000</td>\n",
       "    </tr>\n",
       "    <tr>\n",
       "      <th>25%</th>\n",
       "      <td>530.500000</td>\n",
       "      <td>7.375800e+04</td>\n",
       "      <td>3.756450e+04</td>\n",
       "      <td>3.545900e+04</td>\n",
       "      <td>7.000000</td>\n",
       "      <td>102.54250</td>\n",
       "      <td>87.525000</td>\n",
       "      <td>0.149100</td>\n",
       "      <td>5.800000</td>\n",
       "      <td>4.712200e+04</td>\n",
       "      <td>0.016900</td>\n",
       "    </tr>\n",
       "    <tr>\n",
       "      <th>50%</th>\n",
       "      <td>1212.000000</td>\n",
       "      <td>2.314590e+05</td>\n",
       "      <td>1.189160e+05</td>\n",
       "      <td>1.139360e+05</td>\n",
       "      <td>23.000000</td>\n",
       "      <td>105.70000</td>\n",
       "      <td>340.455000</td>\n",
       "      <td>0.229500</td>\n",
       "      <td>6.310000</td>\n",
       "      <td>1.496150e+05</td>\n",
       "      <td>0.023200</td>\n",
       "    </tr>\n",
       "    <tr>\n",
       "      <th>75%</th>\n",
       "      <td>2782.500000</td>\n",
       "      <td>5.646050e+05</td>\n",
       "      <td>2.876630e+05</td>\n",
       "      <td>2.751375e+05</td>\n",
       "      <td>61.000000</td>\n",
       "      <td>108.64750</td>\n",
       "      <td>657.755000</td>\n",
       "      <td>0.362100</td>\n",
       "      <td>7.170000</td>\n",
       "      <td>3.692155e+05</td>\n",
       "      <td>0.030600</td>\n",
       "    </tr>\n",
       "    <tr>\n",
       "      <th>max</th>\n",
       "      <td>347190.000000</td>\n",
       "      <td>1.099897e+08</td>\n",
       "      <td>5.590977e+07</td>\n",
       "      <td>5.406745e+07</td>\n",
       "      <td>12435.000000</td>\n",
       "      <td>297.81000</td>\n",
       "      <td>110321.000000</td>\n",
       "      <td>50.370000</td>\n",
       "      <td>12.430000</td>\n",
       "      <td>7.362129e+07</td>\n",
       "      <td>6.960000</td>\n",
       "    </tr>\n",
       "  </tbody>\n",
       "</table>\n",
       "</div>"
      ],
      "text/plain": [
       "          area_sq_km     total_pop    total_male  total_female   total_trans  \\\n",
       "count     684.000000  1.859000e+03  1.859000e+03  1.859000e+03   1642.000000   \n",
       "mean     3892.381579  8.171552e+05  4.176485e+05  3.994215e+05     96.462850   \n",
       "std     17126.528751  3.788923e+06  1.931531e+06  1.857251e+06    455.241897   \n",
       "min         4.000000  0.000000e+00  0.000000e+00  0.000000e+00      0.000000   \n",
       "25%       530.500000  7.375800e+04  3.756450e+04  3.545900e+04      7.000000   \n",
       "50%      1212.000000  2.314590e+05  1.189160e+05  1.139360e+05     23.000000   \n",
       "75%      2782.500000  5.646050e+05  2.876630e+05  2.751375e+05     61.000000   \n",
       "max    347190.000000  1.099897e+08  5.590977e+07  5.406745e+07  12435.000000   \n",
       "\n",
       "        sex_ratio    pop_density   pct_urban  avg_hh_size  total_pop_98  \\\n",
       "count  1862.00000     682.000000  518.000000  1837.000000  1.835000e+03   \n",
       "mean    106.02753    2019.055944    0.408385     6.579777  5.303512e+05   \n",
       "std      10.27526    8658.409604    2.214225     1.214435  2.527317e+06   \n",
       "min       0.00000       1.380000    0.000000     0.000000  0.000000e+00   \n",
       "25%     102.54250      87.525000    0.149100     5.800000  4.712200e+04   \n",
       "50%     105.70000     340.455000    0.229500     6.310000  1.496150e+05   \n",
       "75%     108.64750     657.755000    0.362100     7.170000  3.692155e+05   \n",
       "max     297.81000  110321.000000   50.370000    12.430000  7.362129e+07   \n",
       "\n",
       "       avg_annual_growth  \n",
       "count        1832.000000  \n",
       "mean            0.029659  \n",
       "std             0.222095  \n",
       "min            -1.000000  \n",
       "25%             0.016900  \n",
       "50%             0.023200  \n",
       "75%             0.030600  \n",
       "max             6.960000  "
      ]
     },
     "execution_count": 111,
     "metadata": {},
     "output_type": "execute_result"
    }
   ],
   "source": [
    "df.describe()"
   ]
  },
  {
   "cell_type": "code",
   "execution_count": null,
   "metadata": {},
   "outputs": [
    {
     "data": {
      "text/plain": [
       "adm_lvl_1               0\n",
       "adm_lvl_2            1194\n",
       "adm_lvl_3              66\n",
       "adm_lvl_4             465\n",
       "area_name               0\n",
       "area_type               0\n",
       "area_sq_km           1389\n",
       "total_pop             214\n",
       "total_male            214\n",
       "total_female          214\n",
       "total_trans           431\n",
       "sex_ratio             211\n",
       "pop_density          1391\n",
       "pct_urban            1555\n",
       "avg_hh_size           236\n",
       "total_pop_98          238\n",
       "avg_annual_growth     241\n",
       "dtype: int64"
      ]
     },
     "execution_count": 15,
     "metadata": {},
     "output_type": "execute_result"
    }
   ],
   "source": [
    "# find null values\n",
    "df.isnull().sum()"
   ]
  },
  {
   "cell_type": "code",
   "execution_count": null,
   "metadata": {},
   "outputs": [
    {
     "data": {
      "text/plain": [
       "adm_lvl_1             0.000000\n",
       "adm_lvl_2            57.597685\n",
       "adm_lvl_3             3.183792\n",
       "adm_lvl_4            22.431259\n",
       "area_name             0.000000\n",
       "area_type             0.000000\n",
       "area_sq_km           67.004342\n",
       "total_pop            10.323203\n",
       "total_male           10.323203\n",
       "total_female         10.323203\n",
       "total_trans          20.791124\n",
       "sex_ratio            10.178485\n",
       "pop_density          67.100820\n",
       "pct_urban            75.012060\n",
       "avg_hh_size          11.384467\n",
       "total_pop_98         11.480945\n",
       "avg_annual_growth    11.625663\n",
       "dtype: float64"
      ]
     },
     "execution_count": 16,
     "metadata": {},
     "output_type": "execute_result"
    }
   ],
   "source": []
  },
  {
   "cell_type": "code",
   "execution_count": null,
   "metadata": {},
   "outputs": [],
   "source": [
    "# find out persantage\n",
    "df.isnull().sum() / len(df) * 100"
   ]
  },
  {
   "cell_type": "code",
   "execution_count": 17,
   "metadata": {},
   "outputs": [],
   "source": [
    "#remove the columns\n",
    "df.drop(['pct_urban','pop_density','adm_lvl_2','area_sq_km','adm_lvl_4'], axis=1, inplace=True)"
   ]
  },
  {
   "cell_type": "code",
   "execution_count": 19,
   "metadata": {},
   "outputs": [
    {
     "data": {
      "text/plain": [
       "Index(['adm_lvl_1', 'adm_lvl_3', 'area_name', 'area_type', 'total_pop',\n",
       "       'total_male', 'total_female', 'total_trans', 'sex_ratio', 'avg_hh_size',\n",
       "       'total_pop_98', 'avg_annual_growth'],\n",
       "      dtype='object')"
      ]
     },
     "execution_count": 19,
     "metadata": {},
     "output_type": "execute_result"
    }
   ],
   "source": [
    "df.columns"
   ]
  },
  {
   "cell_type": "code",
   "execution_count": 20,
   "metadata": {},
   "outputs": [
    {
     "data": {
      "text/plain": [
       "adm_lvl_1              0\n",
       "adm_lvl_3             66\n",
       "area_name              0\n",
       "area_type              0\n",
       "total_pop            214\n",
       "total_male           214\n",
       "total_female         214\n",
       "total_trans          431\n",
       "sex_ratio            211\n",
       "avg_hh_size          236\n",
       "total_pop_98         238\n",
       "avg_annual_growth    241\n",
       "dtype: int64"
      ]
     },
     "execution_count": 20,
     "metadata": {},
     "output_type": "execute_result"
    }
   ],
   "source": [
    "df.isnull().sum()"
   ]
  },
  {
   "cell_type": "code",
   "execution_count": 21,
   "metadata": {},
   "outputs": [],
   "source": [
    "# filling the null values with mean\n",
    "df['total_trans'].fillna(df['total_trans'].mean(), inplace=True)"
   ]
  },
  {
   "cell_type": "code",
   "execution_count": 22,
   "metadata": {},
   "outputs": [],
   "source": [
    "df['sex_ratio'].fillna(df['sex_ratio'].mean(), inplace=True)\n",
    "df['total_pop'].fillna(df['total_pop'].mean(), inplace=True)\n",
    "df['total_male'].fillna(df['total_male'].mean(), inplace=True)\n",
    "df['total_female'].fillna(df['total_female'].mean(), inplace=True)\n"
   ]
  },
  {
   "cell_type": "code",
   "execution_count": 23,
   "metadata": {},
   "outputs": [],
   "source": [
    "df['adm_lvl_3'].fillna(df['adm_lvl_3'].mode()[0], inplace=True)\n",
    "df['avg_hh_size'].fillna(df['avg_hh_size'].mean(), inplace=True)\n",
    "df['total_pop_98'].fillna(df['total_pop_98'].mean(), inplace=True)\n",
    "df['avg_annual_growth'].fillna(df['avg_annual_growth'].mean(), inplace=True)"
   ]
  },
  {
   "cell_type": "code",
   "execution_count": 24,
   "metadata": {},
   "outputs": [
    {
     "data": {
      "text/plain": [
       "adm_lvl_1            0\n",
       "adm_lvl_3            0\n",
       "area_name            0\n",
       "area_type            0\n",
       "total_pop            0\n",
       "total_male           0\n",
       "total_female         0\n",
       "total_trans          0\n",
       "sex_ratio            0\n",
       "avg_hh_size          0\n",
       "total_pop_98         0\n",
       "avg_annual_growth    0\n",
       "dtype: int64"
      ]
     },
     "execution_count": 24,
     "metadata": {},
     "output_type": "execute_result"
    }
   ],
   "source": [
    "df.isnull().sum()"
   ]
  },
  {
   "cell_type": "code",
   "execution_count": 73,
   "metadata": {},
   "outputs": [
    {
     "data": {
      "text/plain": [
       "<Axes: xlabel='adm_lvl_1'>"
      ]
     },
     "execution_count": 73,
     "metadata": {},
     "output_type": "execute_result"
    },
    {
     "data": {
      "image/png": "[encoded data removed]",
      "text/plain": [
       "<Figure size 640x480 with 1 Axes>"
      ]
     },
     "metadata": {},
     "output_type": "display_data"
    }
   ],
   "source": [
    "# make a barplot\n",
    "sns.boxplot(df, x='adm_lvl_1')"
   ]
  },
  {
   "cell_type": "code",
   "execution_count": 26,
   "metadata": {},
   "outputs": [
    {
     "data": {
      "text/html": [
       "<div>\n",
       "<style scoped>\n",
       "    .dataframe tbody tr th:only-of-type {\n",
       "        vertical-align: middle;\n",
       "    }\n",
       "\n",
       "    .dataframe tbody tr th {\n",
       "        vertical-align: top;\n",
       "    }\n",
       "\n",
       "    .dataframe thead th {\n",
       "        text-align: right;\n",
       "    }\n",
       "</style>\n",
       "<table border=\"1\" class=\"dataframe\">\n",
       "  <thead>\n",
       "    <tr style=\"text-align: right;\">\n",
       "      <th></th>\n",
       "      <th>count</th>\n",
       "      <th>mean</th>\n",
       "      <th>std</th>\n",
       "      <th>min</th>\n",
       "      <th>25%</th>\n",
       "      <th>50%</th>\n",
       "      <th>75%</th>\n",
       "      <th>max</th>\n",
       "    </tr>\n",
       "  </thead>\n",
       "  <tbody>\n",
       "    <tr>\n",
       "      <th>total_pop</th>\n",
       "      <td>2073.0</td>\n",
       "      <td>817155.155460</td>\n",
       "      <td>3.587928e+06</td>\n",
       "      <td>0.0</td>\n",
       "      <td>87246.0000</td>\n",
       "      <td>272882.00000</td>\n",
       "      <td>817155.155460</td>\n",
       "      <td>1.099897e+08</td>\n",
       "    </tr>\n",
       "    <tr>\n",
       "      <th>total_male</th>\n",
       "      <td>2073.0</td>\n",
       "      <td>417648.476600</td>\n",
       "      <td>1.829067e+06</td>\n",
       "      <td>0.0</td>\n",
       "      <td>45604.0000</td>\n",
       "      <td>140446.00000</td>\n",
       "      <td>417648.476600</td>\n",
       "      <td>5.590977e+07</td>\n",
       "    </tr>\n",
       "    <tr>\n",
       "      <th>total_female</th>\n",
       "      <td>2073.0</td>\n",
       "      <td>399421.476062</td>\n",
       "      <td>1.758728e+06</td>\n",
       "      <td>0.0</td>\n",
       "      <td>42146.0000</td>\n",
       "      <td>133083.00000</td>\n",
       "      <td>399421.476062</td>\n",
       "      <td>5.406745e+07</td>\n",
       "    </tr>\n",
       "    <tr>\n",
       "      <th>total_trans</th>\n",
       "      <td>2073.0</td>\n",
       "      <td>96.462850</td>\n",
       "      <td>4.051367e+02</td>\n",
       "      <td>0.0</td>\n",
       "      <td>10.0000</td>\n",
       "      <td>38.00000</td>\n",
       "      <td>96.462850</td>\n",
       "      <td>1.243500e+04</td>\n",
       "    </tr>\n",
       "    <tr>\n",
       "      <th>sex_ratio</th>\n",
       "      <td>2073.0</td>\n",
       "      <td>106.027530</td>\n",
       "      <td>9.738031e+00</td>\n",
       "      <td>0.0</td>\n",
       "      <td>102.9100</td>\n",
       "      <td>106.02753</td>\n",
       "      <td>108.230000</td>\n",
       "      <td>2.978100e+02</td>\n",
       "    </tr>\n",
       "    <tr>\n",
       "      <th>avg_hh_size</th>\n",
       "      <td>2073.0</td>\n",
       "      <td>6.579777</td>\n",
       "      <td>1.143183e+00</td>\n",
       "      <td>0.0</td>\n",
       "      <td>5.8700</td>\n",
       "      <td>6.44000</td>\n",
       "      <td>6.980000</td>\n",
       "      <td>1.243000e+01</td>\n",
       "    </tr>\n",
       "    <tr>\n",
       "      <th>total_pop_98</th>\n",
       "      <td>2073.0</td>\n",
       "      <td>530351.219619</td>\n",
       "      <td>2.377741e+06</td>\n",
       "      <td>0.0</td>\n",
       "      <td>58093.0000</td>\n",
       "      <td>181416.00000</td>\n",
       "      <td>530351.219619</td>\n",
       "      <td>7.362129e+07</td>\n",
       "    </tr>\n",
       "    <tr>\n",
       "      <th>avg_annual_growth</th>\n",
       "      <td>2073.0</td>\n",
       "      <td>0.029659</td>\n",
       "      <td>2.087799e-01</td>\n",
       "      <td>-1.0</td>\n",
       "      <td>0.0176</td>\n",
       "      <td>0.02500</td>\n",
       "      <td>0.029659</td>\n",
       "      <td>6.960000e+00</td>\n",
       "    </tr>\n",
       "  </tbody>\n",
       "</table>\n",
       "</div>"
      ],
      "text/plain": [
       "                    count           mean           std  min         25%  \\\n",
       "total_pop          2073.0  817155.155460  3.587928e+06  0.0  87246.0000   \n",
       "total_male         2073.0  417648.476600  1.829067e+06  0.0  45604.0000   \n",
       "total_female       2073.0  399421.476062  1.758728e+06  0.0  42146.0000   \n",
       "total_trans        2073.0      96.462850  4.051367e+02  0.0     10.0000   \n",
       "sex_ratio          2073.0     106.027530  9.738031e+00  0.0    102.9100   \n",
       "avg_hh_size        2073.0       6.579777  1.143183e+00  0.0      5.8700   \n",
       "total_pop_98       2073.0  530351.219619  2.377741e+06  0.0  58093.0000   \n",
       "avg_annual_growth  2073.0       0.029659  2.087799e-01 -1.0      0.0176   \n",
       "\n",
       "                            50%            75%           max  \n",
       "total_pop          272882.00000  817155.155460  1.099897e+08  \n",
       "total_male         140446.00000  417648.476600  5.590977e+07  \n",
       "total_female       133083.00000  399421.476062  5.406745e+07  \n",
       "total_trans            38.00000      96.462850  1.243500e+04  \n",
       "sex_ratio             106.02753     108.230000  2.978100e+02  \n",
       "avg_hh_size             6.44000       6.980000  1.243000e+01  \n",
       "total_pop_98       181416.00000  530351.219619  7.362129e+07  \n",
       "avg_annual_growth       0.02500       0.029659  6.960000e+00  "
      ]
     },
     "execution_count": 26,
     "metadata": {},
     "output_type": "execute_result"
    }
   ],
   "source": [
    "# stat summary\n",
    "df.describe().T"
   ]
  },
  {
   "cell_type": "code",
   "execution_count": 71,
   "metadata": {},
   "outputs": [
    {
     "data": {
      "text/plain": [
       "<Axes: xlabel='adm_lvl_1', ylabel='area_name'>"
      ]
     },
     "execution_count": 71,
     "metadata": {},
     "output_type": "execute_result"
    },
    {
     "data": {
      "image/png": "[encoded data removed]",
      "text/plain": [
       "<Figure size 640x480 with 1 Axes>"
      ]
     },
     "metadata": {},
     "output_type": "display_data"
    }
   ],
   "source": [
    "sns.boxplot(df, x='adm_lvl_1', y='area_name')"
   ]
  },
  {
   "cell_type": "code",
   "execution_count": 39,
   "metadata": {},
   "outputs": [
    {
     "name": "stdout",
     "output_type": "stream",
     "text": [
      "688\n"
     ]
    },
    {
     "data": {
      "text/plain": [
       "6"
      ]
     },
     "execution_count": 39,
     "metadata": {},
     "output_type": "execute_result"
    }
   ],
   "source": [
    "# its hard to plot, we will use groupedby function \n",
    "print(df['area_name'].nunique())\n",
    "df['adm_lvl_1'].nunique()"
   ]
  },
  {
   "cell_type": "code",
   "execution_count": 62,
   "metadata": {},
   "outputs": [
    {
     "data": {
      "text/plain": [
       "adm_lvl_1\n",
       "BALOCHISTAN    110.300060\n",
       "FATA           106.954471\n",
       "ISLAMABAD      110.690000\n",
       "KP             103.335901\n",
       "PUNJAB         102.171623\n",
       "SINDH          107.511500\n",
       "Name: sex_ratio, dtype: float64"
      ]
     },
     "execution_count": 62,
     "metadata": {},
     "output_type": "execute_result"
    }
   ],
   "source": [
    "#print(df.groupby('area_name')['sex_ratio'].mean())\n",
    "df.groupby('adm_lvl_1')['sex_ratio'].mean()\n"
   ]
  },
  {
   "cell_type": "code",
   "execution_count": 63,
   "metadata": {},
   "outputs": [
    {
     "name": "stdout",
     "output_type": "stream",
     "text": [
      "adm_lvl_1\n",
      "BALOCHISTAN    1.781568e+05\n",
      "FATA           2.535839e+05\n",
      "ISLAMABAD      5.368233e+05\n",
      "KP             5.283862e+05\n",
      "PUNJAB         1.031574e+06\n",
      "SINDH          4.097325e+05\n",
      "Name: total_pop_98, dtype: float64\n"
     ]
    }
   ],
   "source": [
    "print(df.groupby('adm_lvl_1')['total_pop_98'].mean())\n",
    "#df.groupby('area_name')['total_pop_98'].mean()\n"
   ]
  },
  {
   "cell_type": "code",
   "execution_count": 65,
   "metadata": {},
   "outputs": [
    {
     "data": {
      "text/html": [
       "<div>\n",
       "<style scoped>\n",
       "    .dataframe tbody tr th:only-of-type {\n",
       "        vertical-align: middle;\n",
       "    }\n",
       "\n",
       "    .dataframe tbody tr th {\n",
       "        vertical-align: top;\n",
       "    }\n",
       "\n",
       "    .dataframe thead th {\n",
       "        text-align: right;\n",
       "    }\n",
       "</style>\n",
       "<table border=\"1\" class=\"dataframe\">\n",
       "  <thead>\n",
       "    <tr style=\"text-align: right;\">\n",
       "      <th></th>\n",
       "      <th>count</th>\n",
       "      <th>mean</th>\n",
       "      <th>std</th>\n",
       "      <th>min</th>\n",
       "      <th>25%</th>\n",
       "      <th>50%</th>\n",
       "      <th>75%</th>\n",
       "      <th>max</th>\n",
       "    </tr>\n",
       "  </thead>\n",
       "  <tbody>\n",
       "    <tr>\n",
       "      <th>total_pop</th>\n",
       "      <td>2073.0</td>\n",
       "      <td>817155.155460</td>\n",
       "      <td>3.587928e+06</td>\n",
       "      <td>0.0</td>\n",
       "      <td>87246.0000</td>\n",
       "      <td>272882.00000</td>\n",
       "      <td>817155.155460</td>\n",
       "      <td>1.099897e+08</td>\n",
       "    </tr>\n",
       "    <tr>\n",
       "      <th>total_male</th>\n",
       "      <td>2073.0</td>\n",
       "      <td>417648.476600</td>\n",
       "      <td>1.829067e+06</td>\n",
       "      <td>0.0</td>\n",
       "      <td>45604.0000</td>\n",
       "      <td>140446.00000</td>\n",
       "      <td>417648.476600</td>\n",
       "      <td>5.590977e+07</td>\n",
       "    </tr>\n",
       "    <tr>\n",
       "      <th>total_female</th>\n",
       "      <td>2073.0</td>\n",
       "      <td>399421.476062</td>\n",
       "      <td>1.758728e+06</td>\n",
       "      <td>0.0</td>\n",
       "      <td>42146.0000</td>\n",
       "      <td>133083.00000</td>\n",
       "      <td>399421.476062</td>\n",
       "      <td>5.406745e+07</td>\n",
       "    </tr>\n",
       "    <tr>\n",
       "      <th>total_trans</th>\n",
       "      <td>2073.0</td>\n",
       "      <td>96.462850</td>\n",
       "      <td>4.051367e+02</td>\n",
       "      <td>0.0</td>\n",
       "      <td>10.0000</td>\n",
       "      <td>38.00000</td>\n",
       "      <td>96.462850</td>\n",
       "      <td>1.243500e+04</td>\n",
       "    </tr>\n",
       "    <tr>\n",
       "      <th>sex_ratio</th>\n",
       "      <td>2073.0</td>\n",
       "      <td>106.027530</td>\n",
       "      <td>9.738031e+00</td>\n",
       "      <td>0.0</td>\n",
       "      <td>102.9100</td>\n",
       "      <td>106.02753</td>\n",
       "      <td>108.230000</td>\n",
       "      <td>2.978100e+02</td>\n",
       "    </tr>\n",
       "    <tr>\n",
       "      <th>avg_hh_size</th>\n",
       "      <td>2073.0</td>\n",
       "      <td>6.579777</td>\n",
       "      <td>1.143183e+00</td>\n",
       "      <td>0.0</td>\n",
       "      <td>5.8700</td>\n",
       "      <td>6.44000</td>\n",
       "      <td>6.980000</td>\n",
       "      <td>1.243000e+01</td>\n",
       "    </tr>\n",
       "    <tr>\n",
       "      <th>total_pop_98</th>\n",
       "      <td>2073.0</td>\n",
       "      <td>530351.219619</td>\n",
       "      <td>2.377741e+06</td>\n",
       "      <td>0.0</td>\n",
       "      <td>58093.0000</td>\n",
       "      <td>181416.00000</td>\n",
       "      <td>530351.219619</td>\n",
       "      <td>7.362129e+07</td>\n",
       "    </tr>\n",
       "    <tr>\n",
       "      <th>avg_annual_growth</th>\n",
       "      <td>2073.0</td>\n",
       "      <td>0.029659</td>\n",
       "      <td>2.087799e-01</td>\n",
       "      <td>-1.0</td>\n",
       "      <td>0.0176</td>\n",
       "      <td>0.02500</td>\n",
       "      <td>0.029659</td>\n",
       "      <td>6.960000e+00</td>\n",
       "    </tr>\n",
       "  </tbody>\n",
       "</table>\n",
       "</div>"
      ],
      "text/plain": [
       "                    count           mean           std  min         25%  \\\n",
       "total_pop          2073.0  817155.155460  3.587928e+06  0.0  87246.0000   \n",
       "total_male         2073.0  417648.476600  1.829067e+06  0.0  45604.0000   \n",
       "total_female       2073.0  399421.476062  1.758728e+06  0.0  42146.0000   \n",
       "total_trans        2073.0      96.462850  4.051367e+02  0.0     10.0000   \n",
       "sex_ratio          2073.0     106.027530  9.738031e+00  0.0    102.9100   \n",
       "avg_hh_size        2073.0       6.579777  1.143183e+00  0.0      5.8700   \n",
       "total_pop_98       2073.0  530351.219619  2.377741e+06  0.0  58093.0000   \n",
       "avg_annual_growth  2073.0       0.029659  2.087799e-01 -1.0      0.0176   \n",
       "\n",
       "                            50%            75%           max  \n",
       "total_pop          272882.00000  817155.155460  1.099897e+08  \n",
       "total_male         140446.00000  417648.476600  5.590977e+07  \n",
       "total_female       133083.00000  399421.476062  5.406745e+07  \n",
       "total_trans            38.00000      96.462850  1.243500e+04  \n",
       "sex_ratio             106.02753     108.230000  2.978100e+02  \n",
       "avg_hh_size             6.44000       6.980000  1.243000e+01  \n",
       "total_pop_98       181416.00000  530351.219619  7.362129e+07  \n",
       "avg_annual_growth       0.02500       0.029659  6.960000e+00  "
      ]
     },
     "execution_count": 65,
     "metadata": {},
     "output_type": "execute_result"
    }
   ],
   "source": [
    "df.describe().T"
   ]
  },
  {
   "cell_type": "code",
   "execution_count": 74,
   "metadata": {},
   "outputs": [
    {
     "data": {
      "text/plain": [
       "219795.06873254565"
      ]
     },
     "execution_count": 74,
     "metadata": {},
     "output_type": "execute_result"
    }
   ],
   "source": [
    "df['sex_ratio'].sum()"
   ]
  },
  {
   "cell_type": "code",
   "execution_count": 94,
   "metadata": {},
   "outputs": [
    {
     "name": "stdout",
     "output_type": "stream",
     "text": [
      "The total sex_ratio in pakistan 2017 was: 1693962637.2684238\n"
     ]
    }
   ],
   "source": [
    "print(\"The total sex_ratio in pakistan 2017 was:\" ,df['total_pop'].sum())"
   ]
  },
  {
   "cell_type": "code",
   "execution_count": 95,
   "metadata": {},
   "outputs": [
    {
     "name": "stdout",
     "output_type": "stream",
     "text": [
      "The total sex_ratio in pakistan 1998 was: 1099418078.2692099\n"
     ]
    }
   ],
   "source": [
    "print(\"The total sex_ratio in pakistan 1998 was:\" ,df['total_pop_98'].sum())"
   ]
  },
  {
   "cell_type": "code",
   "execution_count": 102,
   "metadata": {},
   "outputs": [
    {
     "data": {
      "text/plain": [
       "594544558.9992139"
      ]
     },
     "execution_count": 102,
     "metadata": {},
     "output_type": "execute_result"
    }
   ],
   "source": [
    "# How many pop chnage from 2017 to 1998\n",
    " pop_change = df['total_pop'].sum() - df['total_pop_98'].sum()\n",
    " pop_change"
   ]
  },
  {
   "cell_type": "code",
   "execution_count": 103,
   "metadata": {},
   "outputs": [
    {
     "name": "stdout",
     "output_type": "stream",
     "text": [
      "The total sex_ratio population of pakistan have been increased by 2017 as compare to 1998, is as follow: 594544558.9992139\n"
     ]
    }
   ],
   "source": [
    "print(\"The total sex_ratio population of pakistan have been increased by 2017 as compare to 1998, is as follow:\", pop_change)"
   ]
  }
 ],
 "metadata": {
  "kernelspec": {
   "display_name": "Python 3",
   "language": "python",
   "name": "python3"
  },
  "language_info": {
   "codemirror_mode": {
    "name": "ipython",
    "version": 3
   },
   "file_extension": ".py",
   "mimetype": "text/x-python",
   "name": "python",
   "nbconvert_exporter": "python",
   "pygments_lexer": "ipython3",
   "version": "3.9.0"
  }
 },
 "nbformat": 4,
 "nbformat_minor": 2
}
